{
  "nbformat": 4,
  "nbformat_minor": 0,
  "metadata": {
    "colab": {
      "name": "GazeVector.ipynb",
      "provenance": [],
      "collapsed_sections": [],
      "authorship_tag": "ABX9TyPWBEO8hTGvC73Adjhr/SA5",
      "include_colab_link": true
    },
    "kernelspec": {
      "name": "python3",
      "display_name": "Python 3"
    },
    "language_info": {
      "name": "python"
    },
    "accelerator": "GPU",
    "gpuClass": "standard"
  },
  "cells": [
    {
      "cell_type": "markdown",
      "metadata": {
        "id": "view-in-github",
        "colab_type": "text"
      },
      "source": [
        "<a href=\"https://colab.research.google.com/github/Pranavi2709/lms/blob/main/GazeVector.ipynb\" target=\"_parent\"><img src=\"https://colab.research.google.com/assets/colab-badge.svg\" alt=\"Open In Colab\"/></a>"
      ]
    },
    {
      "cell_type": "code",
      "execution_count": 2,
      "metadata": {
        "colab": {
          "base_uri": "https://localhost:8080/"
        },
        "id": "i-uSx6JOCOmW",
        "outputId": "5ce0a601-b38f-48f9-db03-ea08e37f3a40"
      },
      "outputs": [
        {
          "output_type": "stream",
          "name": "stdout",
          "text": [
            "Cloning into 'GazeML'...\n",
            "remote: Enumerating objects: 121, done.\u001b[K\n",
            "remote: Total 121 (delta 0), reused 0 (delta 0), pack-reused 121\u001b[K\n",
            "Receiving objects: 100% (121/121), 70.11 KiB | 340.00 KiB/s, done.\n",
            "Resolving deltas: 100% (48/48), done.\n"
          ]
        }
      ],
      "source": [
        "!git clone https://github.com/swook/GazeML"
      ]
    },
    {
      "cell_type": "code",
      "source": [
        "!python3 /content/GazeML/setup.py install\n"
      ],
      "metadata": {
        "colab": {
          "base_uri": "https://localhost:8080/"
        },
        "id": "X1YlC5VYCaev",
        "outputId": "e4059068-9344-4905-ee38-8e07c3f1b620"
      },
      "execution_count": 3,
      "outputs": [
        {
          "output_type": "stream",
          "name": "stdout",
          "text": [
            "running install\n",
            "running bdist_egg\n",
            "running egg_info\n",
            "creating gazeml.egg-info\n",
            "writing gazeml.egg-info/PKG-INFO\n",
            "writing dependency_links to gazeml.egg-info/dependency_links.txt\n",
            "writing requirements to gazeml.egg-info/requires.txt\n",
            "writing top-level names to gazeml.egg-info/top_level.txt\n",
            "writing manifest file 'gazeml.egg-info/SOURCES.txt'\n",
            "reading manifest file 'gazeml.egg-info/SOURCES.txt'\n",
            "writing manifest file 'gazeml.egg-info/SOURCES.txt'\n",
            "installing library code to build/bdist.linux-x86_64/egg\n",
            "running install_lib\n",
            "warning: install_lib: 'build/lib' does not exist -- no Python modules to install\n",
            "\n",
            "creating build\n",
            "creating build/bdist.linux-x86_64\n",
            "creating build/bdist.linux-x86_64/egg\n",
            "creating build/bdist.linux-x86_64/egg/EGG-INFO\n",
            "copying gazeml.egg-info/PKG-INFO -> build/bdist.linux-x86_64/egg/EGG-INFO\n",
            "copying gazeml.egg-info/SOURCES.txt -> build/bdist.linux-x86_64/egg/EGG-INFO\n",
            "copying gazeml.egg-info/dependency_links.txt -> build/bdist.linux-x86_64/egg/EGG-INFO\n",
            "copying gazeml.egg-info/requires.txt -> build/bdist.linux-x86_64/egg/EGG-INFO\n",
            "copying gazeml.egg-info/top_level.txt -> build/bdist.linux-x86_64/egg/EGG-INFO\n",
            "zip_safe flag not set; analyzing archive contents...\n",
            "creating dist\n",
            "creating 'dist/gazeml-0.1-py3.7.egg' and adding 'build/bdist.linux-x86_64/egg' to it\n",
            "removing 'build/bdist.linux-x86_64/egg' (and everything under it)\n",
            "Processing gazeml-0.1-py3.7.egg\n",
            "Copying gazeml-0.1-py3.7.egg to /usr/local/lib/python3.7/dist-packages\n",
            "Adding gazeml 0.1 to easy-install.pth file\n",
            "\n",
            "Installed /usr/local/lib/python3.7/dist-packages/gazeml-0.1-py3.7.egg\n",
            "Processing dependencies for gazeml==0.1\n",
            "Searching for ujson\n",
            "Reading https://pypi.org/simple/ujson/\n",
            "Downloading https://files.pythonhosted.org/packages/4d/cd/8714098cafb0eec873395a178434e4e012a55326c4ffcc9ad798e1ae8714/ujson-5.3.0-cp37-cp37m-manylinux_2_17_x86_64.manylinux2014_x86_64.whl#sha256=d553f31bceda492c2bda37f48873820d28f07608ae14409c5e9d6c3aa6694840\n",
            "Best match: ujson 5.3.0\n",
            "Processing ujson-5.3.0-cp37-cp37m-manylinux_2_17_x86_64.manylinux2014_x86_64.whl\n",
            "Installing ujson-5.3.0-cp37-cp37m-manylinux_2_17_x86_64.manylinux2014_x86_64.whl to /usr/local/lib/python3.7/dist-packages\n",
            "Adding ujson 5.3.0 to easy-install.pth file\n",
            "\n",
            "Installed /usr/local/lib/python3.7/dist-packages/ujson-5.3.0-py3.7-linux-x86_64.egg\n",
            "Searching for coloredlogs\n",
            "Reading https://pypi.org/simple/coloredlogs/\n",
            "Downloading https://files.pythonhosted.org/packages/a7/06/3d6badcf13db419e25b07041d9c7b4a2c331d3f4e7134445ec5df57714cd/coloredlogs-15.0.1-py2.py3-none-any.whl#sha256=612ee75c546f53e92e70049c9dbfcc18c935a2b9a53b66085ce9ef6a6e5c0934\n",
            "Best match: coloredlogs 15.0.1\n",
            "Processing coloredlogs-15.0.1-py2.py3-none-any.whl\n",
            "Installing coloredlogs-15.0.1-py2.py3-none-any.whl to /usr/local/lib/python3.7/dist-packages\n",
            "Adding coloredlogs 15.0.1 to easy-install.pth file\n",
            "Installing coloredlogs script to /usr/local/bin\n",
            "\n",
            "Installed /usr/local/lib/python3.7/dist-packages/coloredlogs-15.0.1-py3.7.egg\n",
            "Searching for humanfriendly>=9.1\n",
            "Reading https://pypi.org/simple/humanfriendly/\n",
            "Downloading https://files.pythonhosted.org/packages/f0/0f/310fb31e39e2d734ccaa2c0fb981ee41f7bd5056ce9bc29b2248bd569169/humanfriendly-10.0-py2.py3-none-any.whl#sha256=1697e1a8a8f550fd43c2865cd84542fc175a61dcb779b6fee18cf6b6ccba1477\n",
            "Best match: humanfriendly 10.0\n",
            "Processing humanfriendly-10.0-py2.py3-none-any.whl\n",
            "Installing humanfriendly-10.0-py2.py3-none-any.whl to /usr/local/lib/python3.7/dist-packages\n",
            "Adding humanfriendly 10.0 to easy-install.pth file\n",
            "Installing humanfriendly script to /usr/local/bin\n",
            "\n",
            "Installed /usr/local/lib/python3.7/dist-packages/humanfriendly-10.0-py3.7.egg\n",
            "Searching for dlib==19.18.0+zzzcolab20220513001918\n",
            "Best match: dlib 19.18.0+zzzcolab20220513001918\n",
            "Adding dlib 19.18.0+zzzcolab20220513001918 to easy-install.pth file\n",
            "\n",
            "Using /usr/local/lib/python3.7/dist-packages\n",
            "Searching for pandas==1.3.5\n",
            "Best match: pandas 1.3.5\n",
            "Adding pandas 1.3.5 to easy-install.pth file\n",
            "\n",
            "Using /usr/local/lib/python3.7/dist-packages\n",
            "Searching for opencv-python==4.1.2.30\n",
            "Best match: opencv-python 4.1.2.30\n",
            "Adding opencv-python 4.1.2.30 to easy-install.pth file\n",
            "\n",
            "Using /usr/local/lib/python3.7/dist-packages\n",
            "Searching for numpy==1.21.6\n",
            "Best match: numpy 1.21.6\n",
            "Adding numpy 1.21.6 to easy-install.pth file\n",
            "Installing f2py script to /usr/local/bin\n",
            "Installing f2py3 script to /usr/local/bin\n",
            "Installing f2py3.7 script to /usr/local/bin\n",
            "\n",
            "Using /usr/local/lib/python3.7/dist-packages\n",
            "Searching for h5py==3.1.0\n",
            "Best match: h5py 3.1.0\n",
            "Adding h5py 3.1.0 to easy-install.pth file\n",
            "\n",
            "Using /usr/local/lib/python3.7/dist-packages\n",
            "Searching for python-dateutil==2.8.2\n",
            "Best match: python-dateutil 2.8.2\n",
            "Adding python-dateutil 2.8.2 to easy-install.pth file\n",
            "\n",
            "Using /usr/local/lib/python3.7/dist-packages\n",
            "Searching for pytz==2022.1\n",
            "Best match: pytz 2022.1\n",
            "Adding pytz 2022.1 to easy-install.pth file\n",
            "\n",
            "Using /usr/local/lib/python3.7/dist-packages\n",
            "Searching for cached-property==1.5.2\n",
            "Best match: cached-property 1.5.2\n",
            "Adding cached-property 1.5.2 to easy-install.pth file\n",
            "\n",
            "Using /usr/local/lib/python3.7/dist-packages\n",
            "Searching for six==1.15.0\n",
            "Best match: six 1.15.0\n",
            "Adding six 1.15.0 to easy-install.pth file\n",
            "\n",
            "Using /usr/local/lib/python3.7/dist-packages\n",
            "Finished processing dependencies for gazeml==0.1\n"
          ]
        }
      ]
    },
    {
      "cell_type": "code",
      "source": [
        "!python /content/GazeML/src/elg_demo.py -fv=\"/content/drive/MyDrive/22_Stage3.m4v\" \n",
        "\n"
      ],
      "metadata": {
        "colab": {
          "base_uri": "https://localhost:8080/"
        },
        "id": "yKE7J8mjClIR",
        "outputId": "76661420-d27d-4743-f1cd-fb19879bcc18"
      },
      "execution_count": 44,
      "outputs": [
        {
          "output_type": "stream",
          "name": "stdout",
          "text": [
            "\u001b[32m24/06 10:49\u001b[0m \u001b[1;30mINFO\u001b[0m Initialized data source: \"Video\"\n",
            "Traceback (most recent call last):\n",
            "  File \"/content/GazeML/src/elg_demo.py\", line 81, in <module>\n",
            "    'loss_terms_to_optimize': {'dummy': ['hourglass', 'radius']},\n",
            "  File \"/content/GazeML/src/models/elg.py\", line 27, in __init__\n",
            "    super().__init__(tensorflow_session, **kwargs)\n",
            "  File \"/content/GazeML/src/core/model.py\", line 101, in __init__\n",
            "    self._build_all_models()\n",
            "  File \"/content/GazeML/src/core/model.py\", line 184, in _build_all_models\n",
            "    _build_train_or_test(mode='train')\n",
            "  File \"/content/GazeML/src/core/model.py\", line 167, in _build_train_or_test\n",
            "    output_tensors, loss_terms, metrics = self.build_model(data_sources, mode=mode)\n",
            "  File \"/content/GazeML/src/models/elg.py\", line 90, in build_model\n",
            "    stride=self._hg_first_layer_stride)\n",
            "  File \"/content/GazeML/src/models/elg.py\", line 141, in _apply_conv\n",
            "    return tf.layers.conv2d(\n",
            "AttributeError: module 'tensorflow' has no attribute 'layers'\n",
            "Exception ignored in: <function BaseModel.__del__ at 0x7fe3fa768710>\n",
            "Traceback (most recent call last):\n",
            "  File \"/content/GazeML/src/core/model.py\", line 109, in __del__\n",
            "  File \"/content/GazeML/src/core/data_source.py\", line 156, in cleanup\n",
            "  File \"/usr/local/lib/python3.7/dist-packages/tensorflow/python/client/session.py\", line 968, in run\n",
            "  File \"/usr/local/lib/python3.7/dist-packages/tensorflow/python/client/session.py\", line 1115, in _run\n",
            "RuntimeError: Attempted to use a closed Session.\n"
          ]
        }
      ]
    },
    {
      "cell_type": "code",
      "source": [
        "from google.colab import drive\n",
        "drive.mount('/content/drive')"
      ],
      "metadata": {
        "colab": {
          "base_uri": "https://localhost:8080/"
        },
        "id": "EStlFDhDDRAv",
        "outputId": "0fab206f-c756-435c-b553-2d125442bb77"
      },
      "execution_count": 11,
      "outputs": [
        {
          "output_type": "stream",
          "name": "stdout",
          "text": [
            "Mounted at /content/drive\n"
          ]
        }
      ]
    }
  ]
}